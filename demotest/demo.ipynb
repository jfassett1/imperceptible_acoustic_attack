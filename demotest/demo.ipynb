{
 "cells": [
  {
   "cell_type": "code",
   "execution_count": 1,
   "metadata": {},
   "outputs": [],
   "source": [
    "import whisper\n",
    "import torch\n",
    "import numpy as np\n",
    "WHISPER_MODEL = 'tiny.en'\n",
    "DEVICE = 'cuda' if torch.cuda.is_available() else 'cpu'\n",
    "\n"
   ]
  },
  {
   "cell_type": "code",
   "execution_count": 4,
   "metadata": {},
   "outputs": [
    {
     "name": "stdout",
     "output_type": "stream",
     "text": [
      "{'text': \" Hello, my name is Jaden and I'm doing my deep learning presentation.\", 'segments': [{'id': 0, 'seek': 0, 'start': 0.0, 'end': 4.16, 'text': \" Hello, my name is Jaden and I'm doing my deep learning presentation.\", 'tokens': [50363, 18435, 11, 616, 1438, 318, 449, 40780, 290, 314, 1101, 1804, 616, 2769, 4673, 10470, 13, 50571], 'temperature': 0.0, 'avg_logprob': -0.3872970530861302, 'compression_ratio': 0.9855072463768116, 'no_speech_prob': 0.049246154725551605}], 'language': 'en'}\n"
     ]
    }
   ],
   "source": [
    "model = whisper.load_model(WHISPER_MODEL).to(DEVICE)\n",
    "attack = np.load(\"/home/jaydenfassett/audioversarial/prepend_acoustic_attack/fassett/clipped.np.npy\")\n",
    "\n",
    "\n",
    "# audio = whisper.audio.load_audio(\"/home/jaydenfassett/audioversarial/prepend_acoustic_attack/demotest/original_audio.wav\")\n",
    "audio = whisper.audio.load_audio(\"/home/jaydenfassett/audioversarial/prepend_acoustic_attack/demotest/Recording.m4a\")\n",
    "\n",
    "\n",
    "audio_copy = audio\n",
    "\n",
    "# audio_copy = np.concatenate([attack,audio_copy])\n",
    "\n",
    "\n",
    "print(model.transcribe(audio_copy))\n",
    "# print(model.transcribe(audio_copy))"
   ]
  },
  {
   "cell_type": "code",
   "execution_count": 42,
   "metadata": {},
   "outputs": [],
   "source": [
    "\n",
    "\n",
    "# model.transcribe(new_audio)"
   ]
  },
  {
   "cell_type": "code",
   "execution_count": 13,
   "metadata": {},
   "outputs": [],
   "source": [
    "import shutil\n",
    "from scipy.io import wavfile\n",
    "new_audio = np.concatenate([attack,audio])\n",
    "\n",
    "wavfile.write(\"original_audio.wav\",16000,audio)\n",
    "audio_attack_array = (new_audio * 32767).astype(np.int16)\n",
    "wavfile.write('audio_with_attack.wav', 16000, audio_attack_array)"
   ]
  }
 ],
 "metadata": {
  "kernelspec": {
   "display_name": "venv_gector",
   "language": "python",
   "name": "python3"
  },
  "language_info": {
   "codemirror_mode": {
    "name": "ipython",
    "version": 3
   },
   "file_extension": ".py",
   "mimetype": "text/x-python",
   "name": "python",
   "nbconvert_exporter": "python",
   "pygments_lexer": "ipython3",
   "version": "3.9.18"
  }
 },
 "nbformat": 4,
 "nbformat_minor": 2
}
